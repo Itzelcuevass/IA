{
  "nbformat": 4,
  "nbformat_minor": 0,
  "metadata": {
    "colab": {
      "provenance": [],
      "authorship_tag": "ABX9TyMGfb9SkaHtE00LIp5rHzo9",
      "include_colab_link": true
    },
    "kernelspec": {
      "name": "python3",
      "display_name": "Python 3"
    },
    "language_info": {
      "name": "python"
    }
  },
  "cells": [
    {
      "cell_type": "markdown",
      "metadata": {
        "id": "view-in-github",
        "colab_type": "text"
      },
      "source": [
        "<a href=\"https://colab.research.google.com/github/Itzelcuevass/IA/blob/main/PhytonExercises_1.ipynb\" target=\"_parent\"><img src=\"https://colab.research.google.com/assets/colab-badge.svg\" alt=\"Open In Colab\"/></a>"
      ]
    },
    {
      "cell_type": "markdown",
      "source": [
        "A2._ PHYTON EXERCISES\n",
        "\n",
        "Name: Itzel de los Angeles Lopez Cuevas\n",
        "Student id: 2077516\n",
        "Class day and hour: Thursday N4-N6"
      ],
      "metadata": {
        "id": "AormMGMJoSV1"
      }
    },
    {
      "cell_type": "markdown",
      "source": [
        "Program 1: Text Analysis Tool"
      ],
      "metadata": {
        "id": "-k-ik-39uhjh"
      }
    },
    {
      "cell_type": "code",
      "source": [
        "import re\n",
        "from collections import Counter\n",
        "\n",
        "def analyze_text(text):\n",
        "    # Count words, sentences, and paragraphs\n",
        "    words = re.findall(r'\\w+', text)\n",
        "    sentences = re.split(r'[.!?]', text)\n",
        "    paragraphs = text.split('\\n\\n')\n",
        "\n",
        "    num_words = len(words)\n",
        "    num_sentences = len(sentences) - 1  # Subtract 1 to exclude the last empty sentence\n",
        "    num_paragraphs = len(paragraphs)\n",
        "\n",
        "    # Calculate average word length\n",
        "    total_word_length = sum(len(word) for word in words)\n",
        "    average_word_length = total_word_length / num_words if num_words > 0 else 0\n",
        "\n",
        "    # Identify most common words and their frequencies\n",
        "    word_counts = Counter(words)\n",
        "    most_common_words = word_counts.most_common(5)\n",
        "\n",
        "    # Print the results\n",
        "    print(f\"Number of words: {num_words}\")\n",
        "    print(f\"Number of sentences: {num_sentences}\")\n",
        "    print(f\"Number of paragraphs: {num_paragraphs}\")\n",
        "    print(f\"Average word length: {average_word_length:.2f}\")\n",
        "    print(\"\\nMost common 5 words:\")\n",
        "    for word, frequency in most_common_words:\n",
        "        print(f\"{word}: {frequency}\")\n",
        "\n",
        "# Get text input from the user\n",
        "user_text = input(\"Please enter or copy the text you want to analyze:\\n\")\n",
        "analyze_text(user_text)\n"
      ],
      "metadata": {
        "colab": {
          "base_uri": "https://localhost:8080/"
        },
        "id": "g7AEYK0Xoan7",
        "outputId": "33731a33-afe0-4000-8331-bf62943f69ad"
      },
      "execution_count": null,
      "outputs": [
        {
          "output_type": "stream",
          "name": "stdout",
          "text": [
            "Please enter or copy the text you want to analyze:\n",
            "Intelligence: Intelligence, in the context of the text, refers to the remarkable cognitive abilities possessed by humans, including perception, understanding, prediction, and manipulation of their environment. It is the capacity to think, reason, learn, and adapt to complex situations.  Artificial Intelligence (AI): Artificial Intelligence, often abbreviated as AI, is a field of science and engineering that aims to replicate and even surpass the cognitive abilities of humans using machines and computers. It involves creating intelligent entities or systems that can perform tasks traditionally requiring human intelligence. AI encompasses a wide range of subfields, from general areas like learning and perception to specific applications like playing chess, writing poetry, driving vehicles, and diagnosing diseases. AI is characterized by its interdisciplinary nature, seeking to apply intelligence to various intellectual tasks, making it a universal and dynamic field of study   Rationality: Rationality refers to the quality of a system or agent making decisions and taking actions that are in alignment with the most appropriate or optimal course of action based on the information it possesses. A system is considered rational when it consistently makes choices that are in accordance with its knowledge and objectives, aiming to achieve the best possible outcome given its capabilities and available information. Rationality is often used as a standard for evaluating the performance of artificial intelligence systems, where the goal is to make decisions and take actions that maximize the expected utility or desired outcomes.\n",
            "Number of words: 237\n",
            "Number of sentences: 8\n",
            "Number of paragraphs: 1\n",
            "Average word length: 5.78\n",
            "\n",
            "Most common 5 words:\n",
            "the: 12\n",
            "and: 12\n",
            "to: 10\n",
            "of: 9\n",
            "is: 6\n"
          ]
        }
      ]
    },
    {
      "cell_type": "markdown",
      "source": [
        "Program 2: Hangman Game"
      ],
      "metadata": {
        "id": "zSNVbXNRpaQq"
      }
    },
    {
      "cell_type": "code",
      "source": [
        "import random\n",
        "\n",
        "# List of words for Hangman\n",
        "word_list = [\"apple\", \"banana\", \"cherry\", \"date\", \"moon\", \"flower\", \"grape\"]\n",
        "\n",
        "def choose_random_word(word_list):\n",
        "    return random.choice(word_list)\n",
        "\n",
        "def display_word(word, guessed_letters):\n",
        "    display = \"\"\n",
        "    for letter in word:\n",
        "        if letter in guessed_letters:\n",
        "            display += letter\n",
        "        else:\n",
        "            display += \"_\"\n",
        "    return display\n",
        "\n",
        "def hangman():\n",
        "    # Select a random word from the list\n",
        "    selected_word = choose_random_word(word_list)\n",
        "    guessed_letters = []\n",
        "    attempts = 6  # Number of attempts allowed\n",
        "\n",
        "    print(\"Welcome to Hangman!\")\n",
        "\n",
        "    while attempts > 0:\n",
        "        print(\"\\nWord:\", display_word(selected_word, guessed_letters))\n",
        "        print(\"Attempts left:\", attempts)\n",
        "\n",
        "        guess = input(\"Guess a letter: \").lower()\n",
        "\n",
        "        if len(guess) != 1 or not guess.isalpha():\n",
        "            print(\"Please enter a single letter.\")\n",
        "            continue\n",
        "\n",
        "        if guess in guessed_letters:\n",
        "            print(\"You've already guessed that letter.\")\n",
        "            continue\n",
        "\n",
        "        guessed_letters.append(guess)\n",
        "\n",
        "        if guess in selected_word:\n",
        "            print(\"Good guess!\")\n",
        "        else:\n",
        "            print(\"Wrong guess.\")\n",
        "            attempts -= 1\n",
        "\n",
        "        if all(letter in guessed_letters for letter in selected_word):\n",
        "            print(\"\\nCongratulations! You guessed the word:\", selected_word)\n",
        "            break\n",
        "\n",
        "    if attempts == 0:\n",
        "        print(\"\\nSorry, you're out of attempts. The word was:\", selected_word)\n",
        "\n",
        "# Start the game\n",
        "hangman()\n"
      ],
      "metadata": {
        "colab": {
          "base_uri": "https://localhost:8080/"
        },
        "id": "4iYLIQMYpfHZ",
        "outputId": "f799bc43-f025-43c0-f974-7f1ed8611c97"
      },
      "execution_count": null,
      "outputs": [
        {
          "output_type": "stream",
          "name": "stdout",
          "text": [
            "Welcome to Hangman!\n",
            "\n",
            "Word: ______\n",
            "Attempts left: 6\n",
            "Guess a letter: A\n",
            "Wrong guess.\n",
            "\n",
            "Word: ______\n",
            "Attempts left: 5\n",
            "Guess a letter: L\n",
            "Good guess!\n",
            "\n",
            "Word: _l____\n",
            "Attempts left: 5\n",
            "Guess a letter: F\n",
            "Good guess!\n",
            "\n",
            "Word: fl____\n",
            "Attempts left: 5\n",
            "Guess a letter: O\n",
            "Good guess!\n",
            "\n",
            "Word: flo___\n",
            "Attempts left: 5\n",
            "Guess a letter: W\n",
            "Good guess!\n",
            "\n",
            "Word: flow__\n",
            "Attempts left: 5\n",
            "Guess a letter: E\n",
            "Good guess!\n",
            "\n",
            "Word: flowe_\n",
            "Attempts left: 5\n",
            "Guess a letter: R\n",
            "Good guess!\n",
            "\n",
            "Congratulations! You guessed the word: flower\n"
          ]
        }
      ]
    },
    {
      "cell_type": "markdown",
      "source": [
        "Program 3: Number Guessing Game"
      ],
      "metadata": {
        "id": "wrdOC2M0s9VC"
      }
    },
    {
      "cell_type": "code",
      "source": [
        "import random\n",
        "\n",
        "# Generate a random number between 1 and 100\n",
        "target_number = random.randint(1, 100)\n",
        "\n",
        "def guess_the_number():\n",
        "    attempts = 0\n",
        "\n",
        "    print(\"Welcome to the Guess the Number game!\")\n",
        "    print(\"I've selected a random number between 1 and 100.\")\n",
        "\n",
        "    while True:\n",
        "        user_guess = input(\"Guess the number: \")\n",
        "\n",
        "        try:\n",
        "            user_guess = int(user_guess)\n",
        "        except ValueError:\n",
        "            print(\"Please enter a valid number.\")\n",
        "            continue\n",
        "\n",
        "        attempts += 1\n",
        "\n",
        "        if user_guess < target_number:\n",
        "            print(\"The number is higher. Try again.\")\n",
        "        elif user_guess > target_number:\n",
        "            print(\"The number is lower. Try again.\")\n",
        "        else:\n",
        "            print(f\"Congratulations! You've guessed the number {target_number} in {attempts} attempts.\")\n",
        "            break\n",
        "\n",
        "# Start the game\n",
        "guess_the_number()\n"
      ],
      "metadata": {
        "colab": {
          "base_uri": "https://localhost:8080/"
        },
        "id": "rebK7wu4tCdY",
        "outputId": "59110000-4088-4917-98d3-9e392d6be750"
      },
      "execution_count": null,
      "outputs": [
        {
          "output_type": "stream",
          "name": "stdout",
          "text": [
            "Welcome to the Guess the Number game!\n",
            "I've selected a random number between 1 and 100.\n",
            "Guess the number: 90\n",
            "The number is lower. Try again.\n",
            "Guess the number: 80\n",
            "The number is lower. Try again.\n",
            "Guess the number: 40\n",
            "The number is higher. Try again.\n",
            "Guess the number: 60\n",
            "The number is higher. Try again.\n",
            "Guess the number: 70\n",
            "The number is lower. Try again.\n",
            "Guess the number: 65\n",
            "Congratulations! You've guessed the number 65 in 6 attempts.\n"
          ]
        }
      ]
    }
  ]
}